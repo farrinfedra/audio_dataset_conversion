{
 "cells": [
  {
   "cell_type": "code",
   "execution_count": 14,
   "id": "db4302e0",
   "metadata": {},
   "outputs": [],
   "source": [
    "from multiprocessing import Process\n",
    "import os"
   ]
  },
  {
   "cell_type": "code",
   "execution_count": 8,
   "id": "cc4c7674",
   "metadata": {},
   "outputs": [
    {
     "name": "stdout",
     "output_type": "stream",
     "text": [
      "Enter input directory and output directory in the following format: /path/to/input /path/to/output/datasets/xeno_canto/audio/veles_binotatus ./audio\n"
     ]
    }
   ],
   "source": [
    "inputs = input(\"Enter input directory and output directory in the following format: /path/to/input /path/to/output\\n\")"
   ]
  },
  {
   "cell_type": "code",
   "execution_count": 10,
   "id": "82e9793c",
   "metadata": {},
   "outputs": [],
   "source": [
    "input_dir, output_dir = inputs.split()"
   ]
  },
  {
   "cell_type": "code",
   "execution_count": 16,
   "id": "7a777c9e",
   "metadata": {},
   "outputs": [],
   "source": [
    "if not os.path.exists(output_dir):\n",
    "    os.mkdir(output_dir)"
   ]
  },
  {
   "cell_type": "code",
   "execution_count": 20,
   "id": "deb754dd",
   "metadata": {},
   "outputs": [
    {
     "data": {
      "text/plain": [
       "['614628.mp3',\n",
       " '404375.mp3',\n",
       " '399997.mp3',\n",
       " '399995.mp3',\n",
       " '351908.mp3',\n",
       " '351907.mp3',\n",
       " '399998.mp3',\n",
       " '397733.mp3',\n",
       " '127307.mp3',\n",
       " '397166.mp3',\n",
       " '241439.mp3',\n",
       " '241438.mp3',\n",
       " '176788.mp3',\n",
       " '169713.mp3',\n",
       " '531732.mp3']"
      ]
     },
     "execution_count": 20,
     "metadata": {},
     "output_type": "execute_result"
    }
   ],
   "source": [
    "os.listdir(input_dir)"
   ]
  },
  {
   "cell_type": "code",
   "execution_count": 31,
   "id": "3fb0111d",
   "metadata": {},
   "outputs": [],
   "source": [
    "for file in os.listdir(input_dir):\n",
    "    \n",
    "    "
   ]
  },
  {
   "cell_type": "code",
   "execution_count": null,
   "id": "680e1647",
   "metadata": {},
   "outputs": [],
   "source": []
  }
 ],
 "metadata": {
  "kernelspec": {
   "display_name": "Python 3 (ipykernel)",
   "language": "python",
   "name": "python3"
  },
  "language_info": {
   "codemirror_mode": {
    "name": "ipython",
    "version": 3
   },
   "file_extension": ".py",
   "mimetype": "text/x-python",
   "name": "python",
   "nbconvert_exporter": "python",
   "pygments_lexer": "ipython3",
   "version": "3.9.0"
  }
 },
 "nbformat": 4,
 "nbformat_minor": 5
}
