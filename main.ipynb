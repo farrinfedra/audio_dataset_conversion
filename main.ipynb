{
 "cells": [
  {
   "cell_type": "code",
   "execution_count": 3,
   "id": "db4302e0",
   "metadata": {},
   "outputs": [],
   "source": [
    "import os\n",
    "from tqdm import tqdm"
   ]
  },
  {
   "cell_type": "code",
   "execution_count": 4,
   "id": "cc4c7674",
   "metadata": {},
   "outputs": [
    {
     "name": "stdout",
     "output_type": "stream",
     "text": [
      "Enter input directory and output directory in the following format: /path/to/input /path/to/output\n",
      "/Users/farrinsofian/Desktop/research_lab/birdData-custom/dataset/audio ./wav_16khz_audio\n"
     ]
    }
   ],
   "source": [
    "inputs = input(\"Enter input directory and output directory in the following format: /path/to/input /path/to/output\\n\")"
   ]
  },
  {
   "cell_type": "code",
   "execution_count": 5,
   "id": "eb5c0f69",
   "metadata": {},
   "outputs": [
    {
     "name": "stdout",
     "output_type": "stream",
     "text": [
      "Enter sample rate in hz16\n"
     ]
    }
   ],
   "source": [
    "sample_input = input('Enter sample rate in hz\\n')"
   ]
  },
  {
   "cell_type": "code",
   "execution_count": 6,
   "id": "82e9793c",
   "metadata": {},
   "outputs": [],
   "source": [
    "input_dir, output_dir = inputs.split()"
   ]
  },
  {
   "cell_type": "code",
   "execution_count": 7,
   "id": "e62f9ffb",
   "metadata": {},
   "outputs": [
    {
     "ename": "FileNotFoundError",
     "evalue": "[Errno 2] No such file or directory: '/Users/farrinsofian/Desktop/research_lab/birdData-custom/dataset/audio'",
     "output_type": "error",
     "traceback": [
      "\u001b[0;31m---------------------------------------------------------------------------\u001b[0m",
      "\u001b[0;31mFileNotFoundError\u001b[0m                         Traceback (most recent call last)",
      "\u001b[0;32m/tmp/ipykernel_87338/1312255555.py\u001b[0m in \u001b[0;36m<module>\u001b[0;34m\u001b[0m\n\u001b[0;32m----> 1\u001b[0;31m \u001b[0mspecies\u001b[0m \u001b[0;34m=\u001b[0m \u001b[0mos\u001b[0m\u001b[0;34m.\u001b[0m\u001b[0mlistdir\u001b[0m\u001b[0;34m(\u001b[0m\u001b[0minput_dir\u001b[0m\u001b[0;34m)\u001b[0m\u001b[0;34m\u001b[0m\u001b[0;34m\u001b[0m\u001b[0m\n\u001b[0m",
      "\u001b[0;31mFileNotFoundError\u001b[0m: [Errno 2] No such file or directory: '/Users/farrinsofian/Desktop/research_lab/birdData-custom/dataset/audio'"
     ]
    }
   ],
   "source": [
    "species = os.listdir(input_dir)"
   ]
  },
  {
   "cell_type": "code",
   "execution_count": 47,
   "id": "7a777c9e",
   "metadata": {},
   "outputs": [],
   "source": [
    "if not os.path.exists(output_dir):\n",
    "    os.mkdir(output_dir)"
   ]
  },
  {
   "cell_type": "code",
   "execution_count": 2,
   "id": "3b45770f",
   "metadata": {},
   "outputs": [
    {
     "ename": "SyntaxError",
     "evalue": "invalid syntax (3893404332.py, line 1)",
     "output_type": "error",
     "traceback": [
      "\u001b[0;36m  File \u001b[0;32m\"/tmp/ipykernel_87338/3893404332.py\"\u001b[0;36m, line \u001b[0;32m1\u001b[0m\n\u001b[0;31m    def convert_wav:\u001b[0m\n\u001b[0m                   ^\u001b[0m\n\u001b[0;31mSyntaxError\u001b[0m\u001b[0;31m:\u001b[0m invalid syntax\n"
     ]
    }
   ],
   "source": [
    "def convert_wav():\n",
    "    for bird in species: #list of species folder\n",
    "        if os.path.isfile(input_dir + '/' +bird):\n",
    "            continue\n",
    "        audios = os.listdir(input_dir + '/' + bird)\n",
    "        if \"in_progress.txt\" in audios:\n",
    "            audios.remove(\"in_progress.txt\")\n",
    "    \n",
    "        if not bird in os.listdir(output_dir):\n",
    "            os.mkdir(output_dir + '/' + bird)\n",
    "        folders = tqdm(audios)\n",
    "        for audio in folders:\n",
    "            folders.set_description(\"Processing audios in %s\" % bird)\n",
    "            name = audio.split('.')[0]\n",
    "            #print('lame --decode --quiet ' + input_dir + '/' +  bird + '/' + audio + ' '+ output_dir + '/' + bird + '/' + name + '.wav')\n",
    "            os.system('lame --decode --quiet ' + input_dir + '/' +  bird +  '/' + audio + ' '+ output_dir + '/' +  bird + '/' + name + '.wav')\n",
    "    "
   ]
  },
  {
   "cell_type": "code",
   "execution_count": 65,
   "id": "fe499075",
   "metadata": {},
   "outputs": [],
   "source": [
    "def resample(sample_rate):\n",
    "    "
   ]
  },
  {
   "cell_type": "code",
   "execution_count": null,
   "id": "d8b72836",
   "metadata": {},
   "outputs": [],
   "source": []
  }
 ],
 "metadata": {
  "kernelspec": {
   "display_name": "Python 3 (ipykernel)",
   "language": "python",
   "name": "python3"
  },
  "language_info": {
   "codemirror_mode": {
    "name": "ipython",
    "version": 3
   },
   "file_extension": ".py",
   "mimetype": "text/x-python",
   "name": "python",
   "nbconvert_exporter": "python",
   "pygments_lexer": "ipython3",
   "version": "3.9.0"
  }
 },
 "nbformat": 4,
 "nbformat_minor": 5
}
