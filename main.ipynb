{
 "cells": [
  {
   "cell_type": "code",
   "execution_count": 1,
   "id": "db4302e0",
   "metadata": {},
   "outputs": [],
   "source": [
    "import os\n",
    "from tqdm import tqdm"
   ]
  },
  {
   "cell_type": "code",
   "execution_count": 81,
   "id": "cc4c7674",
   "metadata": {},
   "outputs": [
    {
     "name": "stdout",
     "output_type": "stream",
     "text": [
      "Enter input directory and output directory in the following format: /path/to/input /path/to/output\n",
      "/Users/farrinsofian/Desktop/converted_audio /Users/farrinsofian/Desktop/converted_audio\n"
     ]
    }
   ],
   "source": [
    "inputs = input(\"Enter input directory and output directory in the following format: /path/to/input /path/to/output\\n\")"
   ]
  },
  {
   "cell_type": "code",
   "execution_count": 82,
   "id": "eb5c0f69",
   "metadata": {},
   "outputs": [
    {
     "name": "stdout",
     "output_type": "stream",
     "text": [
      "Enter sample rate in hz\n",
      "16000\n"
     ]
    }
   ],
   "source": [
    "sample_input = input('Enter sample rate in hz\\n')"
   ]
  },
  {
   "cell_type": "code",
   "execution_count": 83,
   "id": "82e9793c",
   "metadata": {},
   "outputs": [],
   "source": [
    "input_dir, output_dir = inputs.split()"
   ]
  },
  {
   "cell_type": "code",
   "execution_count": 84,
   "id": "e62f9ffb",
   "metadata": {},
   "outputs": [],
   "source": [
    "species = os.listdir(input_dir)"
   ]
  },
  {
   "cell_type": "code",
   "execution_count": 85,
   "id": "7a777c9e",
   "metadata": {},
   "outputs": [],
   "source": [
    "if not os.path.exists(output_dir):\n",
    "    os.mkdir(output_dir)"
   ]
  },
  {
   "cell_type": "code",
   "execution_count": 86,
   "id": "3b45770f",
   "metadata": {},
   "outputs": [],
   "source": [
    "def convert_wav():\n",
    "    for bird in species: #list of species folder\n",
    "        if os.path.isfile(input_dir + '/' +bird):\n",
    "            continue\n",
    "        audios = os.listdir(input_dir + '/' + bird)\n",
    "        if \"in_progress.txt\" in audios:\n",
    "            audios.remove(\"in_progress.txt\")\n",
    "    \n",
    "        if not bird in os.listdir(output_dir):\n",
    "            os.mkdir(output_dir + '/' + bird)\n",
    "        folders = tqdm(audios)\n",
    "        for audio in folders:\n",
    "            folders.set_description(\"Processing audios in %s\" % bird)\n",
    "            name = audio.split('.')[0]\n",
    "            #print('lame --decode --quiet ' + input_dir + '/' +  bird + '/' + audio + ' '+ output_dir + '/' + bird + '/' + name + '.wav')\n",
    "            os.system('lame --decode --quiet ' + input_dir + '/' +  bird +  '/' + audio + ' '+ output_dir + '/' +  bird + '/' + name + '.wav')\n",
    "    "
   ]
  },
  {
   "cell_type": "code",
   "execution_count": 87,
   "id": "fe499075",
   "metadata": {},
   "outputs": [],
   "source": [
    "def resample(sample_input):\n",
    "    for bird in species: #list of species folder\n",
    "        if os.path.isfile(input_dir + '/' +bird):\n",
    "            continue\n",
    "        audios = os.listdir(input_dir + '/' + bird)\n",
    "        if \"in_progress.txt\" in audios:\n",
    "            audios.remove(\"in_progress.txt\")\n",
    "            continue\n",
    "        if \"DS_Store\" in audios:\n",
    "            audios.remove(\"DS_Store\")\n",
    "            continue\n",
    "        folders = tqdm(audios)\n",
    "        for audio in folders:\n",
    "            folders.set_description(\"Processing audios in %s\" % bird)\n",
    "            os.system('sox -r ' + sample_input + ' ' + input_dir + '/' +  bird +  '/' + audio + ' ' + output_dir + '/' + bird + '/' + audio)"
   ]
  },
  {
   "cell_type": "code",
   "execution_count": 88,
   "id": "d8b72836",
   "metadata": {},
   "outputs": [
    {
     "name": "stderr",
     "output_type": "stream",
     "text": [
      "Processing audios in soundscape:   0%|          | 0/8 [00:00<?, ?it/s]sox WARN wav: Premature EOF on .wav input file\n",
      "Processing audios in soundscape:   0%|          | 0/8 [00:00<?, ?it/s]sox WARN wav: Premature EOF on .wav input file\n",
      "Processing audios in soundscape:   0%|          | 0/8 [00:00<?, ?it/s]sox WARN wav: Premature EOF on .wav input file\n",
      "Processing audios in soundscape:  38%|███▊      | 3/8 [00:00<00:00, 27.04it/s]sox WARN wav: Premature EOF on .wav input file\n",
      "Processing audios in soundscape:  38%|███▊      | 3/8 [00:00<00:00, 27.04it/s]sox WARN wav: Premature EOF on .wav input file\n",
      "Processing audios in soundscape:  38%|███▊      | 3/8 [00:00<00:00, 27.04it/s]sox WARN wav: Premature EOF on .wav input file\n",
      "Processing audios in soundscape:  75%|███████▌  | 6/8 [00:00<00:00, 27.77it/s]sox WARN wav: Premature EOF on .wav input file\n",
      "Processing audios in soundscape:  75%|███████▌  | 6/8 [00:00<00:00, 27.77it/s]sox WARN wav: Premature EOF on .wav input file\n",
      "Processing audios in soundscape: 100%|██████████| 8/8 [00:00<00:00, 28.40it/s]\n"
     ]
    }
   ],
   "source": [
    "resample(sample_input)"
   ]
  }
 ],
 "metadata": {
  "kernelspec": {
   "display_name": "Python 3 (ipykernel)",
   "language": "python",
   "name": "python3"
  },
  "language_info": {
   "codemirror_mode": {
    "name": "ipython",
    "version": 3
   },
   "file_extension": ".py",
   "mimetype": "text/x-python",
   "name": "python",
   "nbconvert_exporter": "python",
   "pygments_lexer": "ipython3",
   "version": "3.8.2"
  }
 },
 "nbformat": 4,
 "nbformat_minor": 5
}