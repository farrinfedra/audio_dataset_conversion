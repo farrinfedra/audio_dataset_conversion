{
 "cells": [
  {
   "cell_type": "code",
   "execution_count": 43,
   "id": "db4302e0",
   "metadata": {},
   "outputs": [],
   "source": [
    "from multiprocessing import Process\n",
    "import os\n",
    "from tqdm import tqdm"
   ]
  },
  {
   "cell_type": "code",
   "execution_count": 44,
   "id": "cc4c7674",
   "metadata": {},
   "outputs": [
    {
     "name": "stdout",
     "output_type": "stream",
     "text": [
      "Enter input directory and output directory in the following format: /path/to/input /path/to/output\n",
      "/Users/farrinsofian/Desktop/research_lab/birdData-custom/dataset/audio ./wav_16khz_audio\n"
     ]
    }
   ],
   "source": [
    "inputs = input(\"Enter input directory and output directory in the following format: /path/to/input /path/to/output\\n\")"
   ]
  },
  {
   "cell_type": "code",
   "execution_count": 45,
   "id": "82e9793c",
   "metadata": {},
   "outputs": [],
   "source": [
    "input_dir, output_dir = inputs.split()"
   ]
  },
  {
   "cell_type": "code",
   "execution_count": 46,
   "id": "e62f9ffb",
   "metadata": {},
   "outputs": [],
   "source": [
    "species = os.listdir(input_dir)"
   ]
  },
  {
   "cell_type": "code",
   "execution_count": 47,
   "id": "7a777c9e",
   "metadata": {},
   "outputs": [],
   "source": [
    "if not os.path.exists(output_dir):\n",
    "    os.mkdir(output_dir)"
   ]
  },
  {
   "cell_type": "code",
   "execution_count": 73,
   "id": "3b45770f",
   "metadata": {},
   "outputs": [
    {
     "name": "stderr",
     "output_type": "stream",
     "text": [
      "Processing audios in SomaliOstrich: 100%|█████████████████████████████████████████████████| 1/1 [00:00<00:00, 12.38it/s]\n",
      "Processing audios in SouthernBrownKiwi: 100%|█████████████████████████████████████████████| 3/3 [00:00<00:00, 12.78it/s]\n"
     ]
    }
   ],
   "source": [
    "for bird in species: #list of species folder\n",
    "    if os.path.isfile(input_dir + '/' +bird):\n",
    "        continue\n",
    "    audios = os.listdir(input_dir + '/' + bird)\n",
    "    if \"in_progress.txt\" in audios:\n",
    "        audios.remove(\"in_progress.txt\")\n",
    "    \n",
    "    if not bird in os.listdir(output_dir):\n",
    "        os.mkdir(output_dir + '/' + bird)\n",
    "    folders = tqdm(audios)\n",
    "    for audio in folders:\n",
    "        folders.set_description(\"Processing audios in %s\" % bird)\n",
    "        name = audio.split('.')[0]\n",
    "        #print('lame --decode --quiet ' + input_dir + '/' +  bird + '/' + audio + ' '+ output_dir + '/' + bird + '/' + name + '.wav')\n",
    "        os.system('lame --decode --quiet ' + input_dir + '/' +  bird +  '/' + audio + ' '+ output_dir + '/' +  bird + '/' + name + '.wav')\n",
    "    "
   ]
  },
  {
   "cell_type": "code",
   "execution_count": 65,
   "id": "fe499075",
   "metadata": {},
   "outputs": [],
   "source": []
  },
  {
   "cell_type": "code",
   "execution_count": null,
   "id": "d8b72836",
   "metadata": {},
   "outputs": [],
   "source": []
  }
 ],
 "metadata": {
  "kernelspec": {
   "display_name": "Python 3 (ipykernel)",
   "language": "python",
   "name": "python3"
  },
  "language_info": {
   "codemirror_mode": {
    "name": "ipython",
    "version": 3
   },
   "file_extension": ".py",
   "mimetype": "text/x-python",
   "name": "python",
   "nbconvert_exporter": "python",
   "pygments_lexer": "ipython3",
   "version": "3.8.9"
  }
 },
 "nbformat": 4,
 "nbformat_minor": 5
}
