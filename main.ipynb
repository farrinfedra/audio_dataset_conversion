{
 "cells": [
  {
   "cell_type": "code",
   "execution_count": 26,
   "id": "db4302e0",
   "metadata": {},
   "outputs": [],
   "source": [
    "from multiprocessing import Process\n",
    "import os\n",
    "from tqdm import tqdm"
   ]
  },
  {
   "cell_type": "code",
   "execution_count": 8,
   "id": "cc4c7674",
   "metadata": {},
   "outputs": [
    {
     "name": "stdout",
     "output_type": "stream",
     "text": [
      "Enter input directory and output directory in the following format: /path/to/input /path/to/output\n",
      "/datasets/xeno_canto/audio/veles_binotatus ./audio\n"
     ]
    }
   ],
   "source": [
    "inputs = input(\"Enter input directory and output directory in the following format: /path/to/input /path/to/output\\n\")"
   ]
  },
  {
   "cell_type": "code",
   "execution_count": 9,
   "id": "82e9793c",
   "metadata": {},
   "outputs": [],
   "source": [
    "input_dir, output_dir = inputs.split()"
   ]
  },
  {
   "cell_type": "code",
   "execution_count": 10,
   "id": "7a777c9e",
   "metadata": {},
   "outputs": [],
   "source": [
    "if not os.path.exists(output_dir):\n",
    "    os.mkdir(output_dir)"
   ]
  },
  {
   "cell_type": "code",
   "execution_count": 11,
   "id": "deb754dd",
   "metadata": {},
   "outputs": [
    {
     "data": {
      "text/plain": [
       "['614628.mp3',\n",
       " '404375.mp3',\n",
       " '399997.mp3',\n",
       " '399995.mp3',\n",
       " '351908.mp3',\n",
       " '351907.mp3',\n",
       " '399998.mp3',\n",
       " '397733.mp3',\n",
       " '127307.mp3',\n",
       " '397166.mp3',\n",
       " '241439.mp3',\n",
       " '241438.mp3',\n",
       " '176788.mp3',\n",
       " '169713.mp3',\n",
       " '531732.mp3']"
      ]
     },
     "execution_count": 11,
     "metadata": {},
     "output_type": "execute_result"
    }
   ],
   "source": [
    "os.listdir(input_dir)"
   ]
  },
  {
   "cell_type": "code",
   "execution_count": 15,
   "id": "fe499075",
   "metadata": {},
   "outputs": [
    {
     "data": {
      "text/plain": [
       "'614628.mp3'"
      ]
     },
     "execution_count": 15,
     "metadata": {},
     "output_type": "execute_result"
    }
   ],
   "source": [
    "file = os.listdir(input_dir)[0]\n",
    "file"
   ]
  },
  {
   "cell_type": "code",
   "execution_count": 19,
   "id": "36c2f904",
   "metadata": {},
   "outputs": [
    {
     "name": "stdout",
     "output_type": "stream",
     "text": [
      "lame --decode /datasets/xeno_canto/audio/veles_binotatus/614628.mp3 ./audio/614628.wav\n"
     ]
    }
   ],
   "source": [
    "name = file.split('.')[0]\n",
    "print('lame --decode ' + input_dir + '/' + file + ' '+ output_dir + '/' + name + '.wav')"
   ]
  },
  {
   "cell_type": "code",
   "execution_count": 28,
   "id": "3fb0111d",
   "metadata": {},
   "outputs": [
    {
     "name": "stderr",
     "output_type": "stream",
     "text": [
      "converting:   0%|          | 0/15 [00:00<?, ?it/s]sh: lame: command not found\n",
      "sh: lame: command not found\n",
      "sh: lame: command not found\n",
      "sh: lame: command not found\n",
      "sh: lame: command not found\n",
      "sh: lame: command not found\n",
      "sh: lame: command not found\n",
      "sh: lame: command not found\n",
      "converting:  53%|█████▎    | 8/15 [00:00<00:00, 72.53it/s]sh: lame: command not found\n",
      "sh: lame: command not found\n",
      "sh: lame: command not found\n",
      "sh: lame: command not found\n",
      "sh: lame: command not found\n",
      "sh: lame: command not found\n",
      "sh: lame: command not found\n",
      "converting: 100%|██████████| 15/15 [00:00<00:00, 82.85it/s]"
     ]
    },
    {
     "name": "stdout",
     "output_type": "stream",
     "text": [
      "lame --decode /datasets/xeno_canto/audio/veles_binotatus/614628.mp3 ./audio/614628.wav\n",
      "lame --decode /datasets/xeno_canto/audio/veles_binotatus/404375.mp3 ./audio/404375.wav\n",
      "lame --decode /datasets/xeno_canto/audio/veles_binotatus/399997.mp3 ./audio/399997.wav\n",
      "lame --decode /datasets/xeno_canto/audio/veles_binotatus/399995.mp3 ./audio/399995.wav\n",
      "lame --decode /datasets/xeno_canto/audio/veles_binotatus/351908.mp3 ./audio/351908.wav\n",
      "lame --decode /datasets/xeno_canto/audio/veles_binotatus/351907.mp3 ./audio/351907.wav\n",
      "lame --decode /datasets/xeno_canto/audio/veles_binotatus/399998.mp3 ./audio/399998.wav\n",
      "lame --decode /datasets/xeno_canto/audio/veles_binotatus/397733.mp3 ./audio/397733.wav\n",
      "lame --decode /datasets/xeno_canto/audio/veles_binotatus/127307.mp3 ./audio/127307.wav\n",
      "lame --decode /datasets/xeno_canto/audio/veles_binotatus/397166.mp3 ./audio/397166.wav\n",
      "lame --decode /datasets/xeno_canto/audio/veles_binotatus/241439.mp3 ./audio/241439.wav\n",
      "lame --decode /datasets/xeno_canto/audio/veles_binotatus/241438.mp3 ./audio/241438.wav\n",
      "lame --decode /datasets/xeno_canto/audio/veles_binotatus/176788.mp3 ./audio/176788.wav\n",
      "lame --decode /datasets/xeno_canto/audio/veles_binotatus/169713.mp3 ./audio/169713.wav\n",
      "lame --decode /datasets/xeno_canto/audio/veles_binotatus/531732.mp3 ./audio/531732.wav\n"
     ]
    },
    {
     "name": "stderr",
     "output_type": "stream",
     "text": [
      "\n"
     ]
    }
   ],
   "source": [
    "for file in tqdm(os.listdir(input_dir), desc = \"converting\"):\n",
    "    name = file.split('.')[0]\n",
    "    print('lame --decode ' + input_dir + '/' + file + ' '+ output_dir + '/' + name + '.wav')\n",
    "    os.system('lame --decode ' + input_dir + '/' + file + ' '+ output_dir + '/' + name + '.wav')\n",
    "    "
   ]
  },
  {
   "cell_type": "code",
   "execution_count": null,
   "id": "680e1647",
   "metadata": {},
   "outputs": [],
   "source": []
  }
 ],
 "metadata": {
  "kernelspec": {
   "display_name": "Python 3 (ipykernel)",
   "language": "python",
   "name": "python3"
  },
  "language_info": {
   "codemirror_mode": {
    "name": "ipython",
    "version": 3
   },
   "file_extension": ".py",
   "mimetype": "text/x-python",
   "name": "python",
   "nbconvert_exporter": "python",
   "pygments_lexer": "ipython3",
   "version": "3.9.0"
  }
 },
 "nbformat": 4,
 "nbformat_minor": 5
}
